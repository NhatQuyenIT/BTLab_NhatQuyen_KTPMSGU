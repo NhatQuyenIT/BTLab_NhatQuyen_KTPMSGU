{
 "cells": [
  {
   "cell_type": "code",
   "execution_count": 1,
   "id": "e20c06db",
   "metadata": {},
   "outputs": [
    {
     "name": "stdout",
     "output_type": "stream",
     "text": [
      "Writing baid_t1.inp\n"
     ]
    }
   ],
   "source": [
    "%%writefile baid_t1.inp\n",
    "1"
   ]
  },
  {
   "cell_type": "code",
   "execution_count": 2,
   "id": "917fbfe1",
   "metadata": {},
   "outputs": [
    {
     "name": "stdout",
     "output_type": "stream",
     "text": [
      "Writing baid_t2.inp\n"
     ]
    }
   ],
   "source": [
    "%%writefile baid_t2.inp\n",
    "-1"
   ]
  },
  {
   "cell_type": "code",
   "execution_count": 3,
   "id": "6c62910b",
   "metadata": {},
   "outputs": [
    {
     "name": "stdout",
     "output_type": "stream",
     "text": [
      "Writing baid_t3.inp\n"
     ]
    }
   ],
   "source": [
    "%%writefile baid_t3.inp\n",
    "0"
   ]
  },
  {
   "cell_type": "code",
   "execution_count": 4,
   "id": "82868a66",
   "metadata": {},
   "outputs": [
    {
     "name": "stdout",
     "output_type": "stream",
     "text": [
      "Writing baid_t4.inp\n"
     ]
    }
   ],
   "source": [
    "%%writefile baid_t4.inp\n",
    "2"
   ]
  },
  {
   "cell_type": "code",
   "execution_count": 5,
   "id": "b62d7246",
   "metadata": {},
   "outputs": [
    {
     "name": "stdout",
     "output_type": "stream",
     "text": [
      "Writing baid_t5.inp\n"
     ]
    }
   ],
   "source": [
    "%%writefile baid_t5.inp\n",
    "3"
   ]
  },
  {
   "cell_type": "code",
   "execution_count": 6,
   "id": "592c2296",
   "metadata": {},
   "outputs": [
    {
     "name": "stdout",
     "output_type": "stream",
     "text": [
      "Writing baid_t6.inp\n"
     ]
    }
   ],
   "source": [
    "%%writefile baid_t6.inp\n",
    "46340"
   ]
  },
  {
   "cell_type": "code",
   "execution_count": 7,
   "id": "8a7c145f",
   "metadata": {},
   "outputs": [
    {
     "name": "stdout",
     "output_type": "stream",
     "text": [
      "Writing baid_t7.inp\n"
     ]
    }
   ],
   "source": [
    "%%writefile baid_t7.inp\n",
    "46341"
   ]
  },
  {
   "cell_type": "code",
   "execution_count": 8,
   "id": "a732b2a2",
   "metadata": {},
   "outputs": [
    {
     "name": "stdout",
     "output_type": "stream",
     "text": [
      "Writing baid_t8.inp\n"
     ]
    }
   ],
   "source": [
    "%%writefile baid_t8.inp\n",
    "-46341"
   ]
  },
  {
   "cell_type": "code",
   "execution_count": 9,
   "id": "c846ac50",
   "metadata": {},
   "outputs": [
    {
     "name": "stdout",
     "output_type": "stream",
     "text": [
      "2\n",
      "-2\n",
      "0\n",
      "4\n",
      "6\n",
      "92680\n",
      "92682\n",
      "-92682\n"
     ]
    }
   ],
   "source": [
    "!g++ bai_d.cpp -o bai_d\n",
    "!./bai_d <baid_t1.inp> out1.txt\n",
    "!cat out1.txt\n",
    "!./bai_d <baid_t2.inp> out2.txt\n",
    "!cat out2.txt\n",
    "!./bai_d <baid_t3.inp> out3.txt\n",
    "!cat out3.txt\n",
    "!./bai_d <baid_t4.inp> out4.txt\n",
    "!cat out4.txt\n",
    "!./bai_d <baid_t5.inp> out5.txt\n",
    "!cat out5.txt\n",
    "!./bai_d <baid_t6.inp> out6.txt\n",
    "!cat out6.txt\n",
    "!./bai_d <baid_t7.inp> out7.txt\n",
    "!cat out7.txt\n",
    "!./bai_d <baid_t8.inp> out8.txt\n",
    "!cat out8.txt"
   ]
  }
 ],
 "metadata": {
  "kernelspec": {
   "display_name": "Python 3",
   "language": "python",
   "name": "python3"
  },
  "language_info": {
   "codemirror_mode": {
    "name": "ipython",
    "version": 3
   },
   "file_extension": ".py",
   "mimetype": "text/x-python",
   "name": "python",
   "nbconvert_exporter": "python",
   "pygments_lexer": "ipython3",
   "version": "3.12.1"
  }
 },
 "nbformat": 4,
 "nbformat_minor": 5
}
