{
 "cells": [
  {
   "cell_type": "code",
   "execution_count": 1,
   "id": "f7a6bb08",
   "metadata": {},
   "outputs": [
    {
     "name": "stdout",
     "output_type": "stream",
     "text": [
      "✅ Input: 1 -> out1.txt\n",
      "2\n",
      "\n",
      "----------------\n",
      "✅ Input: -1 -> out2.txt\n",
      "-2\n",
      "\n",
      "----------------\n",
      "✅ Input: 0 -> out3.txt\n",
      "0\n",
      "\n",
      "----------------\n",
      "✅ Input: 2 -> out4.txt\n",
      "4\n",
      "\n",
      "----------------\n",
      "✅ Input: 3 -> out5.txt\n",
      "6\n",
      "\n",
      "----------------\n",
      "✅ Input: 46340 -> out6.txt\n",
      "92680\n",
      "\n",
      "----------------\n",
      "✅ Input: 46341 -> out7.txt\n",
      "92682\n",
      "\n",
      "----------------\n",
      "✅ Input: -46341 -> out8.txt\n",
      "-92682\n",
      "\n",
      "----------------\n"
     ]
    }
   ],
   "source": [
    "import os\n",
    "\n",
    "# Biên dịch\n",
    "os.system(\"g++ bai_d.cpp -o bai_d\")\n",
    "\n",
    "# Đọc từng dòng input\n",
    "with open(\"all_input.inp\") as f:\n",
    "    lines = [line.strip() for line in f if line.strip()]\n",
    "\n",
    "for i, line in enumerate(lines, 1):\n",
    "    outfile = f\"out{i}.txt\"\n",
    "    os.system(f'echo \"{line}\" | ./bai_d > {outfile}')\n",
    "    print(f\"✅ Input: {line} -> {outfile}\")\n",
    "    with open(outfile) as f_out:\n",
    "        print(f_out.read())\n",
    "    print(\"----------------\")"
   ]
  }
 ],
 "metadata": {
  "kernelspec": {
   "display_name": "Python 3",
   "language": "python",
   "name": "python3"
  },
  "language_info": {
   "codemirror_mode": {
    "name": "ipython",
    "version": 3
   },
   "file_extension": ".py",
   "mimetype": "text/x-python",
   "name": "python",
   "nbconvert_exporter": "python",
   "pygments_lexer": "ipython3",
   "version": "3.12.1"
  }
 },
 "nbformat": 4,
 "nbformat_minor": 5
}
