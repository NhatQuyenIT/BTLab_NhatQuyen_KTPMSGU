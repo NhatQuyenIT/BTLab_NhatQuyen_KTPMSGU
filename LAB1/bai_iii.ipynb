{
 "cells": [
  {
   "cell_type": "code",
   "execution_count": 1,
   "id": "f7a6bb08",
   "metadata": {},
   "outputs": [
    {
     "name": "stdout",
     "output_type": "stream",
     "text": [
      "Writing bai_iii_t1.inp\n"
     ]
    }
   ],
   "source": [
    "%%writefile bai_iii_t1.inp\n",
    "0 0 0"
   ]
  },
  {
   "cell_type": "code",
   "execution_count": 2,
   "id": "d23110de",
   "metadata": {},
   "outputs": [
    {
     "name": "stdout",
     "output_type": "stream",
     "text": [
      "Writing bai_iii_t2.inp\n"
     ]
    }
   ],
   "source": [
    "%%writefile bai_iii_t2.inp\n",
    "0 0 5"
   ]
  },
  {
   "cell_type": "code",
   "execution_count": 3,
   "id": "15ffe805",
   "metadata": {},
   "outputs": [
    {
     "name": "stdout",
     "output_type": "stream",
     "text": [
      "Writing bai_iii_t3.inp\n"
     ]
    }
   ],
   "source": [
    "%%writefile bai_iii_t3.inp\n",
    "0 1 1"
   ]
  },
  {
   "cell_type": "code",
   "execution_count": 4,
   "id": "33f33f6f",
   "metadata": {},
   "outputs": [
    {
     "name": "stdout",
     "output_type": "stream",
     "text": [
      "Writing bai_iii_t4.inp\n"
     ]
    }
   ],
   "source": [
    "%%writefile bai_iii_t4.inp\n",
    "0 2 0"
   ]
  },
  {
   "cell_type": "code",
   "execution_count": 5,
   "id": "27305bfd",
   "metadata": {},
   "outputs": [
    {
     "name": "stdout",
     "output_type": "stream",
     "text": [
      "Writing bai_iii_t5.inp\n"
     ]
    }
   ],
   "source": [
    "%%writefile bai_iii_t5.inp\n",
    "0 1 -4"
   ]
  },
  {
   "cell_type": "code",
   "execution_count": 6,
   "id": "5616fe0b",
   "metadata": {},
   "outputs": [
    {
     "name": "stdout",
     "output_type": "stream",
     "text": [
      "Writing bai_iii_t6.inp\n"
     ]
    }
   ],
   "source": [
    "%%writefile bai_iii_t6.inp\n",
    "1 0 1"
   ]
  },
  {
   "cell_type": "code",
   "execution_count": 7,
   "id": "75ac804e",
   "metadata": {},
   "outputs": [
    {
     "name": "stdout",
     "output_type": "stream",
     "text": [
      "Writing bai_iii_t7.inp\n"
     ]
    }
   ],
   "source": [
    "%%writefile bai_iii_t7.inp\n",
    "1 2 1"
   ]
  },
  {
   "cell_type": "code",
   "execution_count": 8,
   "id": "24e17dfa",
   "metadata": {},
   "outputs": [
    {
     "name": "stdout",
     "output_type": "stream",
     "text": [
      "Writing bai_iii_t8.inp\n"
     ]
    }
   ],
   "source": [
    "%%writefile bai_iii_t8.inp\n",
    "1 0 0"
   ]
  },
  {
   "cell_type": "code",
   "execution_count": 9,
   "id": "34b498e8",
   "metadata": {},
   "outputs": [
    {
     "name": "stdout",
     "output_type": "stream",
     "text": [
      "Writing bai_iii_t9.inp\n"
     ]
    }
   ],
   "source": [
    "%%writefile bai_iii_t9.inp\n",
    "1 -2 1"
   ]
  },
  {
   "cell_type": "code",
   "execution_count": 10,
   "id": "0f9deb41",
   "metadata": {},
   "outputs": [
    {
     "name": "stdout",
     "output_type": "stream",
     "text": [
      "Writing bai_iii_t10.inp\n"
     ]
    }
   ],
   "source": [
    "%%writefile bai_iii_t10.inp\n",
    "1 1 -2"
   ]
  },
  {
   "cell_type": "code",
   "execution_count": 11,
   "id": "1fad1402",
   "metadata": {},
   "outputs": [
    {
     "name": "stdout",
     "output_type": "stream",
     "text": [
      "Writing bai_iii_t11.inp\n"
     ]
    }
   ],
   "source": [
    "%%writefile bai_iii_t11.inp\n",
    "1 -5 4"
   ]
  },
  {
   "cell_type": "code",
   "execution_count": 12,
   "id": "917e7c27",
   "metadata": {},
   "outputs": [
    {
     "name": "stdout",
     "output_type": "stream",
     "text": [
      "Writing bai_iii_t12.inp\n"
     ]
    }
   ],
   "source": [
    "%%writefile bai_iii_t12.inp\n",
    "1 5 6"
   ]
  },
  {
   "cell_type": "code",
   "execution_count": 13,
   "id": "ca833b63",
   "metadata": {},
   "outputs": [
    {
     "name": "stdout",
     "output_type": "stream",
     "text": [
      "Writing bai_iii_t13.inp\n"
     ]
    }
   ],
   "source": [
    "%%writefile bai_iii_t13.inp\n",
    "1 -1 0"
   ]
  },
  {
   "cell_type": "code",
   "execution_count": 14,
   "id": "84b0e525",
   "metadata": {},
   "outputs": [
    {
     "name": "stdout",
     "output_type": "stream",
     "text": [
      "Writing bai_iii_t14.inp\n"
     ]
    }
   ],
   "source": [
    "%%writefile bai_iii_t14.inp\n",
    "2 -10 8"
   ]
  },
  {
   "cell_type": "code",
   "execution_count": 15,
   "id": "face91cf",
   "metadata": {},
   "outputs": [
    {
     "name": "stdout",
     "output_type": "stream",
     "text": [
      "Writing bai_iii_t15.inp\n"
     ]
    }
   ],
   "source": [
    "%%writefile bai_iii_t15.inp\n",
    "3 -3 0"
   ]
  },
  {
   "cell_type": "code",
   "execution_count": 16,
   "id": "4aaa8922",
   "metadata": {},
   "outputs": [
    {
     "name": "stdout",
     "output_type": "stream",
     "text": [
      "Writing bai_iii_t16.inp\n"
     ]
    }
   ],
   "source": [
    "%%writefile bai_iii_t16.inp\n",
    "1 -4 4"
   ]
  },
  {
   "cell_type": "code",
   "execution_count": 17,
   "id": "c2bc43f5",
   "metadata": {},
   "outputs": [
    {
     "name": "stdout",
     "output_type": "stream",
     "text": [
      "Infinite solutions.\n",
      "No solution.\n",
      "No solution.\n",
      "The equation has 2 real solution(s): -0 0 \n",
      "The equation has 2 real solution(s): 2 -2 \n",
      "No solution.\n",
      "No solution.\n",
      "The equation has 2 real solution(s): 0 -0 \n",
      "The equation has 2 real solution(s): 1 -1 \n",
      "The equation has 2 real solution(s): 1 -1 \n",
      "The equation has 4 real solution(s): 2 -2 1 -1 \n",
      "No solution.\n",
      "The equation has 4 real solution(s): 1 -1 0 -0 \n",
      "The equation has 4 real solution(s): 2 -2 1 -1 \n",
      "The equation has 4 real solution(s): 1 -1 0 -0 \n",
      "The equation has 2 real solution(s): 1.41421 -1.41421 \n"
     ]
    }
   ],
   "source": [
    "!g++ bai_iii.cpp -o bai_iii\n",
    "!./bai_iii <bai_iii_t1.inp> out1.txt\n",
    "!cat out1.txt\n",
    "!./bai_iii <bai_iii_t2.inp> out2.txt\n",
    "!cat out2.txt\n",
    "!./bai_iii <bai_iii_t3.inp> out3.txt\n",
    "!cat out3.txt\n",
    "!./bai_iii <bai_iii_t4.inp> out4.txt\n",
    "!cat out4.txt\n",
    "!./bai_iii <bai_iii_t5.inp> out5.txt\n",
    "!cat out5.txt\n",
    "!./bai_iii <bai_iii_t6.inp> out6.txt\n",
    "!cat out6.txt\n",
    "!./bai_iii <bai_iii_t7.inp> out7.txt\n",
    "!cat out7.txt\n",
    "!./bai_iii <bai_iii_t8.inp> out8.txt\n",
    "!cat out8.txt\n",
    "!./bai_iii <bai_iii_t9.inp> out9.txt\n",
    "!cat out9.txt\n",
    "!./bai_iii <bai_iii_t10.inp> out10.txt\n",
    "!cat out10.txt\n",
    "!./bai_iii <bai_iii_t11.inp> out11.txt\n",
    "!cat out11.txt\n",
    "!./bai_iii <bai_iii_t12.inp> out12.txt\n",
    "!cat out12.txt\n",
    "!./bai_iii <bai_iii_t13.inp> out13.txt\n",
    "!cat out13.txt\n",
    "!./bai_iii <bai_iii_t14.inp> out14.txt\n",
    "!cat out14.txt\n",
    "!./bai_iii <bai_iii_t15.inp> out15.txt\n",
    "!cat out15.txt\n",
    "!./bai_iii <bai_iii_t16.inp> out16.txt\n",
    "!cat out16.txt"
   ]
  }
 ],
 "metadata": {
  "kernelspec": {
   "display_name": "Python 3",
   "language": "python",
   "name": "python3"
  },
  "language_info": {
   "codemirror_mode": {
    "name": "ipython",
    "version": 3
   },
   "file_extension": ".py",
   "mimetype": "text/x-python",
   "name": "python",
   "nbconvert_exporter": "python",
   "pygments_lexer": "ipython3",
   "version": "3.12.1"
  }
 },
 "nbformat": 4,
 "nbformat_minor": 5
}
