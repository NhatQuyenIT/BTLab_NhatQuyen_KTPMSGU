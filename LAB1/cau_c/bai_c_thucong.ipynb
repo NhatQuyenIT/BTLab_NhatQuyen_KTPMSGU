{
 "cells": [
  {
   "cell_type": "code",
   "execution_count": 1,
   "id": "e20c06db",
   "metadata": {},
   "outputs": [
    {
     "name": "stdout",
     "output_type": "stream",
     "text": [
      "Writing baic_t1.inp\n"
     ]
    }
   ],
   "source": [
    "%%writefile baic_t1.inp\n",
    "9"
   ]
  },
  {
   "cell_type": "code",
   "execution_count": 2,
   "id": "917fbfe1",
   "metadata": {},
   "outputs": [
    {
     "name": "stdout",
     "output_type": "stream",
     "text": [
      "Writing baic_t2.inp\n"
     ]
    }
   ],
   "source": [
    "%%writefile baic_t2.inp\n",
    "10"
   ]
  },
  {
   "cell_type": "code",
   "execution_count": 3,
   "id": "6c62910b",
   "metadata": {},
   "outputs": [
    {
     "name": "stdout",
     "output_type": "stream",
     "text": [
      "Writing baic_t3.inp\n"
     ]
    }
   ],
   "source": [
    "%%writefile baic_t3.inp\n",
    "0"
   ]
  },
  {
   "cell_type": "code",
   "execution_count": 4,
   "id": "82868a66",
   "metadata": {},
   "outputs": [
    {
     "name": "stdout",
     "output_type": "stream",
     "text": [
      "Writing baic_t4.inp\n"
     ]
    }
   ],
   "source": [
    "%%writefile baic_t4.inp\n",
    "-1"
   ]
  },
  {
   "cell_type": "code",
   "execution_count": 5,
   "id": "b62d7246",
   "metadata": {},
   "outputs": [
    {
     "name": "stdout",
     "output_type": "stream",
     "text": [
      "Writing baic_t5.inp\n"
     ]
    }
   ],
   "source": [
    "%%writefile baic_t5.inp\n",
    "2"
   ]
  },
  {
   "cell_type": "code",
   "execution_count": 6,
   "id": "592c2296",
   "metadata": {},
   "outputs": [
    {
     "name": "stdout",
     "output_type": "stream",
     "text": [
      "Writing baic_t6.inp\n"
     ]
    }
   ],
   "source": [
    "%%writefile baic_t6.inp\n",
    "100"
   ]
  },
  {
   "cell_type": "code",
   "execution_count": 8,
   "id": "c846ac50",
   "metadata": {},
   "outputs": [
    {
     "name": "stdout",
     "output_type": "stream",
     "text": [
      "18\n",
      "20\n",
      "0\n",
      "-2\n",
      "4\n",
      "200\n"
     ]
    }
   ],
   "source": [
    "!g++ bai_c.cpp -o bai_c\n",
    "!./bai_c <baic_t1.inp> out1.txt\n",
    "!cat out1.txt\n",
    "!./bai_c <baic_t2.inp> out2.txt\n",
    "!cat out2.txt\n",
    "!./bai_c <baic_t3.inp> out3.txt\n",
    "!cat out3.txt\n",
    "!./bai_c <baic_t4.inp> out4.txt\n",
    "!cat out4.txt\n",
    "!./bai_c <baic_t5.inp> out5.txt\n",
    "!cat out5.txt\n",
    "!./bai_c <baic_t6.inp> out6.txt\n",
    "!cat out6.txt"
   ]
  },
  {
   "cell_type": "code",
   "execution_count": 9,
   "id": "77495fd8",
   "metadata": {},
   "outputs": [
    {
     "name": "stdout",
     "output_type": "stream",
     "text": [
      "Writing baic_t7.inp\n"
     ]
    }
   ],
   "source": [
    "%%writefile baic_t7.inp\n",
    "INT_MAX/2"
   ]
  },
  {
   "cell_type": "code",
   "execution_count": 10,
   "id": "f15639e3",
   "metadata": {},
   "outputs": [
    {
     "name": "stdout",
     "output_type": "stream",
     "text": [
      "Writing baic_t8.inp\n"
     ]
    }
   ],
   "source": [
    "%%writefile baic_t8.inp\n",
    "INT_MIN/2"
   ]
  },
  {
   "cell_type": "code",
   "execution_count": 11,
   "id": "80d64090",
   "metadata": {},
   "outputs": [
    {
     "name": "stdout",
     "output_type": "stream",
     "text": [
      "Writing baic_t9.inp\n"
     ]
    }
   ],
   "source": [
    "%%writefile baic_t9.inp\n",
    "INT_MAX/2 + 1"
   ]
  },
  {
   "cell_type": "code",
   "execution_count": 12,
   "id": "8ffde46a",
   "metadata": {},
   "outputs": [
    {
     "name": "stdout",
     "output_type": "stream",
     "text": [
      "Writing baic_t10.inp\n"
     ]
    }
   ],
   "source": [
    "%%writefile baic_t10.inp\n",
    "INT_MAX"
   ]
  },
  {
   "cell_type": "code",
   "execution_count": 13,
   "id": "b1b7dd51",
   "metadata": {},
   "outputs": [
    {
     "name": "stdout",
     "output_type": "stream",
     "text": [
      "Writing baic_t11.inp\n"
     ]
    }
   ],
   "source": [
    "%%writefile baic_t11.inp\n",
    "INT_MIN/2 - 1"
   ]
  },
  {
   "cell_type": "code",
   "execution_count": 14,
   "id": "3c83b698",
   "metadata": {},
   "outputs": [
    {
     "name": "stdout",
     "output_type": "stream",
     "text": [
      "Writing baic_t12.inp\n"
     ]
    }
   ],
   "source": [
    "%%writefile baic_t12.inp\n",
    "INT_MIN"
   ]
  },
  {
   "cell_type": "code",
   "execution_count": 15,
   "id": "2d41c344",
   "metadata": {},
   "outputs": [
    {
     "name": "stdout",
     "output_type": "stream",
     "text": [
      "0\n",
      "0\n",
      "0\n",
      "0\n",
      "0\n",
      "0\n"
     ]
    }
   ],
   "source": [
    "!./bai_c <baic_t7.inp> out7.txt\n",
    "!cat out7.txt\n",
    "!./bai_c <baic_t8.inp> out8.txt\n",
    "!cat out8.txt\n",
    "!./bai_c <baic_t9.inp> out9.txt\n",
    "!cat out9.txt\n",
    "!./bai_c <baic_t10.inp> out10.txt\n",
    "!cat out10.txt\n",
    "!./bai_c <baic_t11.inp> out11.txt\n",
    "!cat out11.txt\n",
    "!./bai_c <baic_t12.inp> out12.txt\n",
    "!cat out12.txt"
   ]
  }
 ],
 "metadata": {
  "kernelspec": {
   "display_name": "Python 3",
   "language": "python",
   "name": "python3"
  },
  "language_info": {
   "codemirror_mode": {
    "name": "ipython",
    "version": 3
   },
   "file_extension": ".py",
   "mimetype": "text/x-python",
   "name": "python",
   "nbconvert_exporter": "python",
   "pygments_lexer": "ipython3",
   "version": "3.12.1"
  }
 },
 "nbformat": 4,
 "nbformat_minor": 5
}
