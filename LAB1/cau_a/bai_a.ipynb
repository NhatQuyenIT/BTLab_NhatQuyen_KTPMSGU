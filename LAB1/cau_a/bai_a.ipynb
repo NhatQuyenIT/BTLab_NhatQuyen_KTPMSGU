{
 "cells": [
  {
   "cell_type": "code",
   "execution_count": 13,
   "id": "f7a6bb08",
   "metadata": {},
   "outputs": [
    {
     "name": "stdout",
     "output_type": "stream",
     "text": [
      "✅ Input: 9 -> out1.txt\n",
      "-9\n",
      "\n",
      "----------------\n",
      "✅ Input: 10 -> out2.txt\n",
      "-10\n",
      "\n",
      "----------------\n",
      "✅ Input: 11 -> out3.txt\n",
      "22\n",
      "\n",
      "----------------\n",
      "✅ Input: 0 -> out4.txt\n",
      "0\n",
      "\n",
      "----------------\n",
      "✅ Input: -1 -> out5.txt\n",
      "1\n",
      "\n",
      "----------------\n",
      "✅ Input: 1 -> out6.txt\n",
      "-1\n",
      "\n",
      "----------------\n",
      "✅ Input: -5 -> out7.txt\n",
      "5\n",
      "\n",
      "----------------\n",
      "✅ Input: 100 -> out8.txt\n",
      "200\n",
      "\n",
      "----------------\n",
      "✅ Input: -123 -> out9.txt\n",
      "123\n",
      "\n",
      "----------------\n",
      "✅ Input: INT_MAX/2 -> out10.txt\n",
      "0\n",
      "\n",
      "----------------\n",
      "✅ Input: INT_MIN+1 -> out11.txt\n",
      "0\n",
      "\n",
      "----------------\n",
      "✅ Input: INT_MAX/2 + 1 -> out12.txt\n",
      "0\n",
      "\n",
      "----------------\n",
      "✅ Input: INT_MAX -> out13.txt\n",
      "0\n",
      "\n",
      "----------------\n",
      "✅ Input: INT_MIN -> out14.txt\n",
      "0\n",
      "\n",
      "----------------\n"
     ]
    }
   ],
   "source": [
    "import os\n",
    "\n",
    "# Biên dịch\n",
    "os.system(\"g++ bai_a.cpp -o bai_a\")\n",
    "\n",
    "# Đọc từng dòng input\n",
    "with open(\"all_input.inp\") as f:\n",
    "    lines = [line.strip() for line in f if line.strip()]\n",
    "\n",
    "for i, line in enumerate(lines, 1):\n",
    "    outfile = f\"out{i}.txt\"\n",
    "    os.system(f'echo \"{line}\" | ./bai_a > {outfile}')\n",
    "    print(f\"✅ Input: {line} -> {outfile}\")\n",
    "    with open(outfile) as f_out:\n",
    "        print(f_out.read())\n",
    "    print(\"----------------\")"
   ]
  }
 ],
 "metadata": {
  "kernelspec": {
   "display_name": "Python 3",
   "language": "python",
   "name": "python3"
  },
  "language_info": {
   "codemirror_mode": {
    "name": "ipython",
    "version": 3
   },
   "file_extension": ".py",
   "mimetype": "text/x-python",
   "name": "python",
   "nbconvert_exporter": "python",
   "pygments_lexer": "ipython3",
   "version": "3.12.1"
  }
 },
 "nbformat": 4,
 "nbformat_minor": 5
}
