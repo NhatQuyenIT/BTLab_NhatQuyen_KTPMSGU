{
 "cells": [
  {
   "cell_type": "code",
   "execution_count": 4,
   "id": "e20c06db",
   "metadata": {},
   "outputs": [
    {
     "name": "stdout",
     "output_type": "stream",
     "text": [
      "Overwriting baia_t1.inp\n"
     ]
    }
   ],
   "source": [
    "%%writefile baia_t1.inp\n",
    "9"
   ]
  },
  {
   "cell_type": "code",
   "execution_count": 5,
   "id": "917fbfe1",
   "metadata": {},
   "outputs": [
    {
     "name": "stdout",
     "output_type": "stream",
     "text": [
      "Writing baia_t2.inp\n"
     ]
    }
   ],
   "source": [
    "%%writefile baia_t2.inp\n",
    "10"
   ]
  },
  {
   "cell_type": "code",
   "execution_count": 6,
   "id": "139fe9a2",
   "metadata": {},
   "outputs": [
    {
     "name": "stdout",
     "output_type": "stream",
     "text": [
      "Writing baia_t3.inp\n"
     ]
    }
   ],
   "source": [
    "%%writefile baia_t3.inp\n",
    "11"
   ]
  },
  {
   "cell_type": "code",
   "execution_count": 17,
   "id": "c846ac50",
   "metadata": {},
   "outputs": [
    {
     "name": "stdout",
     "output_type": "stream",
     "text": [
      "-9\n",
      "-10\n",
      "22\n"
     ]
    }
   ],
   "source": [
    "!g++ bai_a.cpp -o bai_a\n",
    "!./bai_a <baia_t1.inp> out1.txt\n",
    "!cat out1.txt\n",
    "!./bai_a <baia_t2.inp> out2.txt\n",
    "!cat out2.txt\n",
    "!./bai_a <baia_t3.inp> out3.txt\n",
    "!cat out3.txt"
   ]
  },
  {
   "cell_type": "code",
   "execution_count": 8,
   "id": "a4688276",
   "metadata": {},
   "outputs": [
    {
     "name": "stdout",
     "output_type": "stream",
     "text": [
      "Writing baia_t4.inp\n"
     ]
    }
   ],
   "source": [
    "%%writefile baia_t4.inp\n",
    "0"
   ]
  },
  {
   "cell_type": "code",
   "execution_count": 9,
   "id": "cf516254",
   "metadata": {},
   "outputs": [
    {
     "name": "stdout",
     "output_type": "stream",
     "text": [
      "Writing baia_t5.inp\n"
     ]
    }
   ],
   "source": [
    "%%writefile baia_t5.inp\n",
    "-1"
   ]
  },
  {
   "cell_type": "code",
   "execution_count": 10,
   "id": "46f5d357",
   "metadata": {},
   "outputs": [
    {
     "name": "stdout",
     "output_type": "stream",
     "text": [
      "Writing baia_t6.inp\n"
     ]
    }
   ],
   "source": [
    "%%writefile baia_t6.inp\n",
    "1"
   ]
  },
  {
   "cell_type": "code",
   "execution_count": 11,
   "id": "6f4a438c",
   "metadata": {},
   "outputs": [
    {
     "name": "stdout",
     "output_type": "stream",
     "text": [
      "Writing baia_t7.inp\n"
     ]
    }
   ],
   "source": [
    "%%writefile baia_t7.inp\n",
    "-5"
   ]
  },
  {
   "cell_type": "code",
   "execution_count": 12,
   "id": "60b4e35c",
   "metadata": {},
   "outputs": [
    {
     "name": "stdout",
     "output_type": "stream",
     "text": [
      "Writing baia_t8.inp\n"
     ]
    }
   ],
   "source": [
    "%%writefile baia_t8.inp\n",
    "100"
   ]
  },
  {
   "cell_type": "code",
   "execution_count": 13,
   "id": "00d8816f",
   "metadata": {},
   "outputs": [
    {
     "name": "stdout",
     "output_type": "stream",
     "text": [
      "Writing baia_t9.inp\n"
     ]
    }
   ],
   "source": [
    "%%writefile baia_t9.inp\n",
    "-123"
   ]
  },
  {
   "cell_type": "code",
   "execution_count": 14,
   "id": "5c30088d",
   "metadata": {},
   "outputs": [
    {
     "name": "stdout",
     "output_type": "stream",
     "text": [
      "Writing baia_t10.inp\n"
     ]
    }
   ],
   "source": [
    "%%writefile baia_t10.inp\n",
    "INT_MAX/2"
   ]
  },
  {
   "cell_type": "code",
   "execution_count": 15,
   "id": "e2ac6f12",
   "metadata": {},
   "outputs": [
    {
     "name": "stdout",
     "output_type": "stream",
     "text": [
      "Writing baia_t11.inp\n"
     ]
    }
   ],
   "source": [
    "%%writefile baia_t11.inp\n",
    "INT_MIN+1"
   ]
  },
  {
   "cell_type": "code",
   "execution_count": 18,
   "id": "eb364316",
   "metadata": {},
   "outputs": [
    {
     "name": "stdout",
     "output_type": "stream",
     "text": [
      "0\n",
      "1\n",
      "-1\n",
      "5\n",
      "200\n",
      "123\n",
      "0\n",
      "0\n"
     ]
    }
   ],
   "source": [
    "!./bai_a <baia_t4.inp> out4.txt\n",
    "!cat out4.txt\n",
    "!./bai_a <baia_t5.inp> out5.txt\n",
    "!cat out5.txt\n",
    "!./bai_a <baia_t6.inp> out6.txt\n",
    "!cat out6.txt\n",
    "!./bai_a <baia_t7.inp> out7.txt\n",
    "!cat out7.txt\n",
    "!./bai_a <baia_t8.inp> out8.txt\n",
    "!cat out8.txt\n",
    "!./bai_a <baia_t9.inp> out9.txt\n",
    "!cat out9.txt\n",
    "!./bai_a <baia_t10.inp> out10.txt\n",
    "!cat out10.txt\n",
    "!./bai_a <baia_t11.inp> out11.txt\n",
    "!cat out11.txt"
   ]
  },
  {
   "cell_type": "code",
   "execution_count": 19,
   "id": "80d64090",
   "metadata": {},
   "outputs": [
    {
     "name": "stdout",
     "output_type": "stream",
     "text": [
      "Writing baia_t12.inp\n"
     ]
    }
   ],
   "source": [
    "%%writefile baia_t12.inp\n",
    "INT_MAX/2 + 1"
   ]
  },
  {
   "cell_type": "code",
   "execution_count": 20,
   "id": "8ffde46a",
   "metadata": {},
   "outputs": [
    {
     "name": "stdout",
     "output_type": "stream",
     "text": [
      "Writing baia_t13.inp\n"
     ]
    }
   ],
   "source": [
    "%%writefile baia_t13.inp\n",
    "INT_MAX"
   ]
  },
  {
   "cell_type": "code",
   "execution_count": 21,
   "id": "3c83b698",
   "metadata": {},
   "outputs": [
    {
     "name": "stdout",
     "output_type": "stream",
     "text": [
      "Writing baia_t14.inp\n"
     ]
    }
   ],
   "source": [
    "%%writefile baia_t14.inp\n",
    "INT_MIN"
   ]
  },
  {
   "cell_type": "code",
   "execution_count": 22,
   "id": "2d41c344",
   "metadata": {},
   "outputs": [
    {
     "name": "stdout",
     "output_type": "stream",
     "text": [
      "0\n",
      "0\n",
      "0\n"
     ]
    }
   ],
   "source": [
    "!./bai_a <baia_t12.inp> out12.txt\n",
    "!cat out12.txt\n",
    "!./bai_a <baia_t13.inp> out13.txt\n",
    "!cat out13.txt\n",
    "!./bai_a <baia_t14.inp> out14.txt\n",
    "!cat out14.txt"
   ]
  }
 ],
 "metadata": {
  "kernelspec": {
   "display_name": "Python 3",
   "language": "python",
   "name": "python3"
  },
  "language_info": {
   "codemirror_mode": {
    "name": "ipython",
    "version": 3
   },
   "file_extension": ".py",
   "mimetype": "text/x-python",
   "name": "python",
   "nbconvert_exporter": "python",
   "pygments_lexer": "ipython3",
   "version": "3.12.1"
  }
 },
 "nbformat": 4,
 "nbformat_minor": 5
}
