{
 "cells": [
  {
   "cell_type": "code",
   "execution_count": 1,
   "id": "e20c06db",
   "metadata": {},
   "outputs": [
    {
     "name": "stdout",
     "output_type": "stream",
     "text": [
      "Writing baib_t1.inp\n"
     ]
    }
   ],
   "source": [
    "%%writefile baib_t1.inp\n",
    "11"
   ]
  },
  {
   "cell_type": "code",
   "execution_count": 2,
   "id": "917fbfe1",
   "metadata": {},
   "outputs": [
    {
     "name": "stdout",
     "output_type": "stream",
     "text": [
      "Writing baib_t2.inp\n"
     ]
    }
   ],
   "source": [
    "%%writefile baib_t2.inp\n",
    "1"
   ]
  },
  {
   "cell_type": "code",
   "execution_count": 3,
   "id": "139fe9a2",
   "metadata": {},
   "outputs": [
    {
     "name": "stdout",
     "output_type": "stream",
     "text": [
      "Writing baib_t3.inp\n"
     ]
    }
   ],
   "source": [
    "%%writefile baib_t3.inp\n",
    "0"
   ]
  },
  {
   "cell_type": "code",
   "execution_count": 4,
   "id": "c846ac50",
   "metadata": {},
   "outputs": [
    {
     "name": "stdout",
     "output_type": "stream",
     "text": [
      "22\n",
      "-1\n",
      "0\n"
     ]
    }
   ],
   "source": [
    "!g++ bai_b.cpp -o bai_b\n",
    "!./bai_b <baib_t1.inp> out1.txt\n",
    "!cat out1.txt\n",
    "!./bai_b <baib_t2.inp> out2.txt\n",
    "!cat out2.txt\n",
    "!./bai_b <baib_t3.inp> out3.txt\n",
    "!cat out3.txt"
   ]
  },
  {
   "cell_type": "code",
   "execution_count": 6,
   "id": "a4688276",
   "metadata": {},
   "outputs": [
    {
     "name": "stdout",
     "output_type": "stream",
     "text": [
      "Writing baib_t4.inp\n"
     ]
    }
   ],
   "source": [
    "%%writefile baib_t4.inp\n",
    "10"
   ]
  },
  {
   "cell_type": "code",
   "execution_count": 7,
   "id": "cf516254",
   "metadata": {},
   "outputs": [
    {
     "name": "stdout",
     "output_type": "stream",
     "text": [
      "Writing baib_t5.inp\n"
     ]
    }
   ],
   "source": [
    "%%writefile baib_t5.inp\n",
    "-1"
   ]
  },
  {
   "cell_type": "code",
   "execution_count": 8,
   "id": "46f5d357",
   "metadata": {},
   "outputs": [
    {
     "name": "stdout",
     "output_type": "stream",
     "text": [
      "Writing baib_t6.inp\n"
     ]
    }
   ],
   "source": [
    "%%writefile baib_t6.inp\n",
    "5"
   ]
  },
  {
   "cell_type": "code",
   "execution_count": 9,
   "id": "6f4a438c",
   "metadata": {},
   "outputs": [
    {
     "name": "stdout",
     "output_type": "stream",
     "text": [
      "Writing baib_t7.inp\n"
     ]
    }
   ],
   "source": [
    "%%writefile baib_t7.inp\n",
    "100"
   ]
  },
  {
   "cell_type": "code",
   "execution_count": 10,
   "id": "60b4e35c",
   "metadata": {},
   "outputs": [
    {
     "name": "stdout",
     "output_type": "stream",
     "text": [
      "Writing baib_t8.inp\n"
     ]
    }
   ],
   "source": [
    "%%writefile baib_t8.inp\n",
    "-5"
   ]
  },
  {
   "cell_type": "code",
   "execution_count": 11,
   "id": "eb364316",
   "metadata": {},
   "outputs": [
    {
     "name": "stdout",
     "output_type": "stream",
     "text": [
      "-10\n",
      "-2\n",
      "-5\n",
      "200\n",
      "-10\n"
     ]
    }
   ],
   "source": [
    "!./bai_b <baib_t4.inp> out4.txt\n",
    "!cat out4.txt\n",
    "!./bai_b <baib_t5.inp> out5.txt\n",
    "!cat out5.txt\n",
    "!./bai_b <baib_t6.inp> out6.txt\n",
    "!cat out6.txt\n",
    "!./bai_b <baib_t7.inp> out7.txt\n",
    "!cat out7.txt\n",
    "!./bai_b <baib_t8.inp> out8.txt\n",
    "!cat out8.txt"
   ]
  },
  {
   "cell_type": "code",
   "execution_count": 19,
   "id": "77495fd8",
   "metadata": {},
   "outputs": [
    {
     "name": "stdout",
     "output_type": "stream",
     "text": [
      "Overwriting baib_t9.inp\n"
     ]
    }
   ],
   "source": [
    "%%writefile baib_t9.inp\n",
    "INT_MAX/2"
   ]
  },
  {
   "cell_type": "code",
   "execution_count": 20,
   "id": "80d64090",
   "metadata": {},
   "outputs": [
    {
     "name": "stdout",
     "output_type": "stream",
     "text": [
      "Overwriting baib_t10.inp\n"
     ]
    }
   ],
   "source": [
    "%%writefile baib_t10.inp\n",
    "INT_MAX/2 + 1"
   ]
  },
  {
   "cell_type": "code",
   "execution_count": 21,
   "id": "8ffde46a",
   "metadata": {},
   "outputs": [
    {
     "name": "stdout",
     "output_type": "stream",
     "text": [
      "Overwriting baib_t11.inp\n"
     ]
    }
   ],
   "source": [
    "%%writefile baib_t11.inp\n",
    "INT_MAX"
   ]
  },
  {
   "cell_type": "code",
   "execution_count": 22,
   "id": "5b4e39fb",
   "metadata": {},
   "outputs": [
    {
     "name": "stdout",
     "output_type": "stream",
     "text": [
      "Overwriting baib_t12.inp\n"
     ]
    }
   ],
   "source": [
    "%%writefile baib_t12.inp\n",
    "INT_MIN/2"
   ]
  },
  {
   "cell_type": "code",
   "execution_count": 23,
   "id": "5d2cdd07",
   "metadata": {},
   "outputs": [
    {
     "name": "stdout",
     "output_type": "stream",
     "text": [
      "Writing baib_t13.inp\n"
     ]
    }
   ],
   "source": [
    "%%writefile baib_t13.inp\n",
    "INT_MIN/2 + 1"
   ]
  },
  {
   "cell_type": "code",
   "execution_count": 24,
   "id": "3c83b698",
   "metadata": {},
   "outputs": [
    {
     "name": "stdout",
     "output_type": "stream",
     "text": [
      "Writing baib_t14.inp\n"
     ]
    }
   ],
   "source": [
    "%%writefile baib_t14.inp\n",
    "INT_MIN"
   ]
  },
  {
   "cell_type": "code",
   "execution_count": 25,
   "id": "2d41c344",
   "metadata": {},
   "outputs": [
    {
     "name": "stdout",
     "output_type": "stream",
     "text": [
      "0\n",
      "0\n",
      "0\n",
      "0\n",
      "0\n",
      "0\n"
     ]
    }
   ],
   "source": [
    "!./bai_b <baib_t9.inp> out9.txt\n",
    "!cat out9.txt\n",
    "!./bai_b <baib_t10.inp> out10.txt\n",
    "!cat out10.txt\n",
    "!./bai_b <baib_t11.inp> out11.txt\n",
    "!cat out11.txt\n",
    "!./bai_b <baib_t12.inp> out12.txt\n",
    "!cat out12.txt\n",
    "!./bai_b <baib_t13.inp> out13.txt\n",
    "!cat out13.txt\n",
    "!./bai_b <baib_t14.inp> out14.txt\n",
    "!cat out14.txt"
   ]
  }
 ],
 "metadata": {
  "kernelspec": {
   "display_name": "Python 3",
   "language": "python",
   "name": "python3"
  },
  "language_info": {
   "codemirror_mode": {
    "name": "ipython",
    "version": 3
   },
   "file_extension": ".py",
   "mimetype": "text/x-python",
   "name": "python",
   "nbconvert_exporter": "python",
   "pygments_lexer": "ipython3",
   "version": "3.12.1"
  }
 },
 "nbformat": 4,
 "nbformat_minor": 5
}
