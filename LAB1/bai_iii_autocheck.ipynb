{
 "cells": [
  {
   "cell_type": "code",
   "execution_count": 1,
   "id": "c2bc43f5",
   "metadata": {},
   "outputs": [
    {
     "name": "stdout",
     "output_type": "stream",
     "text": [
      "[PASS] 0.1: a=b=c=0 (∞ nghiệm)\n",
      "[PASS] 0.2: a=b=0,c!=0 (vô nghiệm)\n",
      "[PASS] 1.1: a=0,b=1,c=1 (x^2=-1)\n",
      "[PASS] 1.2: a=0,b=2,c=0 (x=0 kép)\n",
      "[PASS] 1.3: a=0,b=1,c=-4 (x=±2)\n",
      "[PASS] 2.1: y^2+1=0 (Δ<0)\n",
      "[PASS] 3.1: y=-1 (Δ=0,y<0)\n",
      "[PASS] 3.2: y=0 (Δ=0,y=0)\n",
      "[PASS] 3.3: y=1 (Δ=0,y=1 -> x=±1)\n",
      "[PASS] 4.1: y=1,-2 -> x=±1\n",
      "[PASS] 4.2: y=4,1 -> x=±2,±1\n",
      "[PASS] 4.3: y=-2,-3 (không y>=0)\n",
      "[PASS] 4.4: y=1,0 -> code hiện tại trả 1,-1,0,0\n",
      "[PASS] 5.1: scale (y=4,1)\n",
      "[PASS] 5.2: y=1,0 -> 1,-1,0,0\n",
      "[PASS] 5.3: y=2 (Δ=0) -> x=±√2\n",
      "\n",
      "Summary: 16 passed, 0 failed.\n",
      "cat: out1.txt: No such file or directory\n"
     ]
    }
   ],
   "source": [
    "!g++ bai_iii_autocheck.cpp -o bai_iii_caithien\n",
    "!./bai_iii_caithien out1.txt\n",
    "!cat out1.txt"
   ]
  }
 ],
 "metadata": {
  "kernelspec": {
   "display_name": "Python 3",
   "language": "python",
   "name": "python3"
  },
  "language_info": {
   "codemirror_mode": {
    "name": "ipython",
    "version": 3
   },
   "file_extension": ".py",
   "mimetype": "text/x-python",
   "name": "python",
   "nbconvert_exporter": "python",
   "pygments_lexer": "ipython3",
   "version": "3.12.1"
  }
 },
 "nbformat": 4,
 "nbformat_minor": 5
}
