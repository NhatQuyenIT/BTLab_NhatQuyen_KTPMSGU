{
 "cells": [
  {
   "cell_type": "code",
   "execution_count": null,
   "id": "92dbb22a",
   "metadata": {},
   "outputs": [
    {
     "name": "stdout",
     "output_type": "stream",
     "text": [
      "Writing baie_t2.inp\n"
     ]
    }
   ],
   "source": [
    "%%writefile baie_t1.inp\n",
    "2 3 5"
   ]
  },
  {
   "cell_type": "code",
   "execution_count": null,
   "id": "31cd64de",
   "metadata": {},
   "outputs": [
    {
     "name": "stdout",
     "output_type": "stream",
     "text": [
      "Writing baie_t1.inp\n"
     ]
    }
   ],
   "source": [
    "%%writefile baie_t2.inp\n",
    "3 3 3"
   ]
  },
  {
   "cell_type": "code",
   "execution_count": 3,
   "id": "b7775e9b",
   "metadata": {},
   "outputs": [
    {
     "name": "stdout",
     "output_type": "stream",
     "text": [
      "5\n",
      "0\n"
     ]
    }
   ],
   "source": [
    "!g++ bai_e.cpp -o bai_e\n",
    "!./bai_e <baie_t1.inp> out1.txt\n",
    "!cat out1.txt\n",
    "!./bai_e <baie_t2.inp> out2.txt\n",
    "!cat out2.txt"
   ]
  }
 ],
 "metadata": {
  "kernelspec": {
   "display_name": "Python 3",
   "language": "python",
   "name": "python3"
  },
  "language_info": {
   "codemirror_mode": {
    "name": "ipython",
    "version": 3
   },
   "file_extension": ".py",
   "mimetype": "text/x-python",
   "name": "python",
   "nbconvert_exporter": "python",
   "pygments_lexer": "ipython3",
   "version": "3.12.1"
  }
 },
 "nbformat": 4,
 "nbformat_minor": 5
}
