{
 "cells": [
  {
   "cell_type": "code",
   "execution_count": 1,
   "id": "92dbb22a",
   "metadata": {},
   "outputs": [
    {
     "name": "stdout",
     "output_type": "stream",
     "text": [
      "Writing baie_t1.inp\n"
     ]
    }
   ],
   "source": [
    "%%writefile baie_t1.inp\n",
    "2 3 5"
   ]
  },
  {
   "cell_type": "code",
   "execution_count": 2,
   "id": "d03c4479",
   "metadata": {},
   "outputs": [
    {
     "name": "stdout",
     "output_type": "stream",
     "text": [
      "Writing baie_t2.inp\n"
     ]
    }
   ],
   "source": [
    "%%writefile baie_t2.inp\n",
    "2 5 3"
   ]
  },
  {
   "cell_type": "code",
   "execution_count": 3,
   "id": "5084f6dc",
   "metadata": {},
   "outputs": [
    {
     "name": "stdout",
     "output_type": "stream",
     "text": [
      "Writing baie_t3.inp\n"
     ]
    }
   ],
   "source": [
    "%%writefile baie_t3.inp\n",
    "5 3 2"
   ]
  },
  {
   "cell_type": "code",
   "execution_count": 4,
   "id": "9d423e30",
   "metadata": {},
   "outputs": [
    {
     "name": "stdout",
     "output_type": "stream",
     "text": [
      "Writing baie_t4.inp\n"
     ]
    }
   ],
   "source": [
    "%%writefile baie_t4.inp\n",
    "-5 -2 -3"
   ]
  },
  {
   "cell_type": "code",
   "execution_count": 5,
   "id": "8e9c2ab3",
   "metadata": {},
   "outputs": [
    {
     "name": "stdout",
     "output_type": "stream",
     "text": [
      "Writing baie_t5.inp\n"
     ]
    }
   ],
   "source": [
    "%%writefile baie_t5.inp\n",
    "5 5 4"
   ]
  },
  {
   "cell_type": "code",
   "execution_count": 6,
   "id": "15e0baed",
   "metadata": {},
   "outputs": [
    {
     "name": "stdout",
     "output_type": "stream",
     "text": [
      "Writing baie_t6.inp\n"
     ]
    }
   ],
   "source": [
    "%%writefile baie_t6.inp\n",
    "5 4 5"
   ]
  },
  {
   "cell_type": "code",
   "execution_count": 7,
   "id": "35b757a5",
   "metadata": {},
   "outputs": [
    {
     "name": "stdout",
     "output_type": "stream",
     "text": [
      "Writing baie_t7.inp\n"
     ]
    }
   ],
   "source": [
    "%%writefile baie_t7.inp\n",
    "4 5 5"
   ]
  },
  {
   "cell_type": "code",
   "execution_count": 8,
   "id": "31cd64de",
   "metadata": {},
   "outputs": [
    {
     "name": "stdout",
     "output_type": "stream",
     "text": [
      "Writing baie_t8.inp\n"
     ]
    }
   ],
   "source": [
    "%%writefile baie_t8.inp\n",
    "3 3 3"
   ]
  },
  {
   "cell_type": "code",
   "execution_count": 9,
   "id": "15b3ff57",
   "metadata": {},
   "outputs": [
    {
     "name": "stdout",
     "output_type": "stream",
     "text": [
      "Writing baie_t9.inp\n"
     ]
    }
   ],
   "source": [
    "%%writefile baie_t9.inp\n",
    "-5 -5 -10"
   ]
  },
  {
   "cell_type": "code",
   "execution_count": 10,
   "id": "8e7e9ca0",
   "metadata": {},
   "outputs": [
    {
     "name": "stdout",
     "output_type": "stream",
     "text": [
      "Writing baie_t10.inp\n"
     ]
    }
   ],
   "source": [
    "%%writefile baie_t10.inp\n",
    "0 0 -1"
   ]
  },
  {
   "cell_type": "code",
   "execution_count": 12,
   "id": "b7775e9b",
   "metadata": {},
   "outputs": [
    {
     "name": "stdout",
     "output_type": "stream",
     "text": [
      "5\n",
      "5\n",
      "5\n",
      "-2\n",
      "0\n",
      "0\n",
      "0\n",
      "0\n",
      "0\n",
      "0\n"
     ]
    }
   ],
   "source": [
    "!g++ bai_e.cpp -o bai_e\n",
    "!./bai_e <baie_t1.inp> out1.txt\n",
    "!cat out1.txt\n",
    "!./bai_e <baie_t2.inp> out2.txt\n",
    "!cat out2.txt\n",
    "!./bai_e <baie_t3.inp> out3.txt\n",
    "!cat out3.txt\n",
    "!./bai_e <baie_t4.inp> out4.txt\n",
    "!cat out4.txt\n",
    "!./bai_e <baie_t5.inp> out5.txt\n",
    "!cat out5.txt\n",
    "!./bai_e <baie_t6.inp> out6.txt\n",
    "!cat out6.txt\n",
    "!./bai_e <baie_t7.inp> out7.txt\n",
    "!cat out7.txt\n",
    "!./bai_e <baie_t8.inp> out8.txt\n",
    "!cat out8.txt\n",
    "!./bai_e <baie_t9.inp> out9.txt\n",
    "!cat out9.txt\n",
    "!./bai_e <baie_t10.inp> out10.txt\n",
    "!cat out10.txt"
   ]
  },
  {
   "cell_type": "code",
   "execution_count": 13,
   "id": "98cae9e4",
   "metadata": {},
   "outputs": [
    {
     "name": "stdout",
     "output_type": "stream",
     "text": [
      "Writing baie_t11.inp\n"
     ]
    }
   ],
   "source": [
    "%%writefile baie_t11.inp\n",
    "INT_MAX 0 -1"
   ]
  },
  {
   "cell_type": "code",
   "execution_count": 14,
   "id": "ff7306d7",
   "metadata": {},
   "outputs": [
    {
     "name": "stdout",
     "output_type": "stream",
     "text": [
      "Writing baie_t12.inp\n"
     ]
    }
   ],
   "source": [
    "%%writefile baie_t12.inp\n",
    "INT_MAX INT_MAX -1"
   ]
  },
  {
   "cell_type": "code",
   "execution_count": 15,
   "id": "4e3ff733",
   "metadata": {},
   "outputs": [
    {
     "name": "stdout",
     "output_type": "stream",
     "text": [
      "Writing baie_t13.inp\n"
     ]
    }
   ],
   "source": [
    "%%writefile baie_t13.inp\n",
    "INT_MIN -1 INT_MIN"
   ]
  },
  {
   "cell_type": "code",
   "execution_count": 16,
   "id": "9bdb46f8",
   "metadata": {},
   "outputs": [
    {
     "name": "stdout",
     "output_type": "stream",
     "text": [
      "Writing baie_t14.inp\n"
     ]
    }
   ],
   "source": [
    "%%writefile baie_t14.inp\n",
    "INT_MIN INT_MIN INT_MIN"
   ]
  },
  {
   "cell_type": "code",
   "execution_count": 17,
   "id": "dbbb8e6c",
   "metadata": {},
   "outputs": [
    {
     "name": "stdout",
     "output_type": "stream",
     "text": [
      "30495\n",
      "32391\n",
      "1432939088\n",
      "32477\n"
     ]
    }
   ],
   "source": [
    "!./bai_e <baie_t11.inp> out11.txt\n",
    "!cat out11.txt\n",
    "!./bai_e <baie_t12.inp> out12.txt\n",
    "!cat out12.txt\n",
    "!./bai_e <baie_t13.inp> out13.txt\n",
    "!cat out13.txt\n",
    "!./bai_e <baie_t14.inp> out14.txt\n",
    "!cat out14.txt"
   ]
  }
 ],
 "metadata": {
  "kernelspec": {
   "display_name": "Python 3",
   "language": "python",
   "name": "python3"
  },
  "language_info": {
   "codemirror_mode": {
    "name": "ipython",
    "version": 3
   },
   "file_extension": ".py",
   "mimetype": "text/x-python",
   "name": "python",
   "nbconvert_exporter": "python",
   "pygments_lexer": "ipython3",
   "version": "3.12.1"
  }
 },
 "nbformat": 4,
 "nbformat_minor": 5
}
